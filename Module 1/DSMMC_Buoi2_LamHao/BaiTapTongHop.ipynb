{
 "cells": [
  {
   "attachments": {},
   "cell_type": "markdown",
   "metadata": {},
   "source": [
    "# Exercise 1"
   ]
  },
  {
   "attachments": {},
   "cell_type": "markdown",
   "metadata": {},
   "source": [
    "<b>Question 1</b>\n",
    "\n",
    "Viết chương trình nhập vào một số thực. Đơn vị tính cho số này là centimet (cm). Hãy in ra số tương đương tính bằng foot (số thực, có 2 số lẻ thập phân) và inch (số thực, có 2 số lẻ thập phân). Với 1 inch = 2.54 cm và 1 foot = 12 inches.\n"
   ]
  },
  {
   "cell_type": "code",
   "execution_count": 7,
   "metadata": {},
   "outputs": [
    {
     "name": "stdout",
     "output_type": "stream",
     "text": [
      "3 cen = 7.62 inch = 91.44 foot\n"
     ]
    }
   ],
   "source": [
    "def cen2inch(cen):\n",
    "    inch = round(2.54*cen, 2)\n",
    "    return inch\n",
    "\n",
    "def cen2foot(cen):\n",
    "    foot = round(12*2.54*cen, 2)\n",
    "    return foot\n",
    "\n",
    "cen = int(input())\n",
    "inch = cen2inch(cen)\n",
    "foot = cen2foot(cen)\n",
    "print(f'{cen} cen = {inch} inch = {foot} foot')"
   ]
  },
  {
   "attachments": {},
   "cell_type": "markdown",
   "metadata": {},
   "source": [
    "<b>Question 2</b>\n",
    "\n",
    "Viết chương trình nhập vào số giây từ 0 tới 68399, đổi số giây này thành dạng [giờ:phút:giây], mỗi thành phần là một số nguyên có 2 chữ số.\n",
    "\n",
    "Ví dụ: 02:11:05\n"
   ]
  },
  {
   "cell_type": "code",
   "execution_count": 21,
   "metadata": {},
   "outputs": [
    {
     "name": "stdout",
     "output_type": "stream",
     "text": [
      "61s = [0:1:1]\n"
     ]
    }
   ],
   "source": [
    "def sec2full(sec):\n",
    "    hour = sec//(3600)\n",
    "    min = (sec%3600)//60\n",
    "    sec = (sec%3600)%60\n",
    "    return hour, min, sec\n",
    "\n",
    "secd = int(input())\n",
    "hour, minu, sec2 = sec2full(sec)\n",
    "print(f'{secd}s = [{hour}:{minu}:{sec2}]')\n"
   ]
  },
  {
   "attachments": {},
   "cell_type": "markdown",
   "metadata": {},
   "source": [
    "<b>Question 3</b>\n",
    "\n",
    "Viết chương trình nhập vào 4 số nguyên.\n",
    "\n",
    "Hiển thị ra số lớn nhất và nhỏ nhất\n",
    "\n",
    "Ví dụ:\n",
    "\n",
    "nhập vào 4 số 1,2,3,4 thì kết quả là:\n",
    "\n",
    "Số lớn nhất là: 4\n",
    "\n",
    "Số nhỏ nhất là: 1\n"
   ]
  },
  {
   "cell_type": "code",
   "execution_count": 37,
   "metadata": {},
   "outputs": [
    {
     "name": "stdout",
     "output_type": "stream",
     "text": [
      "[2, 3, 4, 1] có max = 4, min = 1\n"
     ]
    }
   ],
   "source": [
    "def max_min(a, b, c, d):\n",
    "    M = max(max(a, b), max(c, d))\n",
    "    m = min(min(a, b), min(c, d))\n",
    "    return M, m\n",
    "\n",
    "a, b, c, d = map(int, input().split())\n",
    "M, m = max_min(a, b, c, d)\n",
    "print(f'[{a}, {b}, {c}, {d}] có max = {M}, min = {m}')"
   ]
  },
  {
   "attachments": {},
   "cell_type": "markdown",
   "metadata": {},
   "source": [
    "<b>Question 4</b>\n",
    "\n",
    "Nhập vào hai số tự nhiên a và b. Tính hiệu của hai số đó.\n",
    "\n",
    "Nếu hiệu số lớn hơn 0 thì in ra dòng chữ [Số thứ nhất lớn hơn số thứ hai].\n",
    "\n",
    "Nếu hiệu số nhỏ hơn 0 thì in ra dòng chữ [Số thứ nhất nhỏ hơn số thứ hai]."
   ]
  },
  {
   "cell_type": "code",
   "execution_count": 38,
   "metadata": {},
   "outputs": [
    {
     "name": "stdout",
     "output_type": "stream",
     "text": [
      "Hiệu 4 - 5 = -1\n",
      "Số thứ hai lớn hơn số thứ nhất\n"
     ]
    }
   ],
   "source": [
    "a, b = map(int, input().split())\n",
    "d = a-b\n",
    "print(f'Hiệu {a} - {b} = {d}')\n",
    "if(d>0): print('Số thứ nhất lớn hơn số thứ hai')\n",
    "elif(d<0): print('Số thứ hai lớn hơn số thứ nhất')"
   ]
  },
  {
   "attachments": {},
   "cell_type": "markdown",
   "metadata": {},
   "source": [
    "<b>Question 5</b>\n",
    "\n",
    "Nhập vào 2 số tự nhiên a và b. Kiểm tra xem a có chia hết cho b không"
   ]
  },
  {
   "cell_type": "code",
   "execution_count": 9,
   "metadata": {},
   "outputs": [
    {
     "name": "stdout",
     "output_type": "stream",
     "text": [
      "4 chia hết cho 2\n"
     ]
    }
   ],
   "source": [
    "def divisable(a, b):\n",
    "    if(a%b): return False\n",
    "    return True\n",
    "\n",
    "a, b = map(int, input().split())\n",
    "if(divisable(a, b)): print(f'{a} chia hết cho {b}')\n",
    "else: print(f'{a} không chia hết cho {b}')"
   ]
  },
  {
   "attachments": {},
   "cell_type": "markdown",
   "metadata": {},
   "source": [
    "<b>Question 6</b>\n",
    "\n",
    "Xếp loại sinh viên theo các quy luật dưới đây:\n",
    "\n",
    "- Nếu điểm >= 9.0 - Loại xuất sắc\n",
    "\n",
    "- Nếu 8.0<= điểm < 9.0 - Loại giỏi\n",
    "\n",
    "- Nếu 7.0<= điểm < 8.0 - Loại khá\n",
    "\n",
    "- Nếu 6.0 <= điểm < 7.0 - Loại trung bình khá\n",
    "\n",
    "- Nếu 5.0 <= điểm < 6.0 - Loại trung bình\n",
    "\n",
    "- Nếu điểm < 5.0 - Loại kém\n",
    "\n",
    "Với điểm = ( (điểm toán)*2 + điểm lý + điểm hóa )/4\n",
    "\n",
    "Viết Chương trình:\n"
   ]
  },
  {
   "attachments": {},
   "cell_type": "markdown",
   "metadata": {},
   "source": [
    "a. Nhập vào điểm 3 môn học"
   ]
  },
  {
   "cell_type": "code",
   "execution_count": 12,
   "metadata": {},
   "outputs": [],
   "source": [
    "def Nhap():\n",
    "    t = float(input('Nhập điểm toán: '))\n",
    "    l = float(input('Nhập điểm lý: '))\n",
    "    h = float(input('Nhập điểm hóa: '))\n",
    "    return t, l, h\n",
    "\n",
    "t, l, h = Nhap()"
   ]
  },
  {
   "attachments": {},
   "cell_type": "markdown",
   "metadata": {},
   "source": [
    "b. Tính điểm trung bình"
   ]
  },
  {
   "cell_type": "code",
   "execution_count": 13,
   "metadata": {},
   "outputs": [],
   "source": [
    "def DTB(t, l, h):\n",
    "    return (2*t+l+h)/4\n",
    "\n",
    "dtb = DTB(t, l, h)"
   ]
  },
  {
   "attachments": {},
   "cell_type": "markdown",
   "metadata": {},
   "source": [
    "c. Xác định học lực của học sinh dựa trên điểm trung bình"
   ]
  },
  {
   "cell_type": "code",
   "execution_count": 16,
   "metadata": {},
   "outputs": [],
   "source": [
    "def XepLoai(dtb):\n",
    "    if(dtb>=9): return 'Loại xuất sắc'\n",
    "    elif(dtb>=8): return 'Loại giỏi'\n",
    "    elif(dtb>=7): return 'Loại khá'\n",
    "    elif(dtb>=6): return 'Loại TB khá'\n",
    "    elif(dtb>=5): return 'Loại trung bình'\n",
    "    else: return 'Loại ngu'\n",
    "\n",
    "xeploai = XepLoai(dtb)"
   ]
  },
  {
   "attachments": {},
   "cell_type": "markdown",
   "metadata": {},
   "source": [
    "d. Hiển thị học lực của học sinh"
   ]
  },
  {
   "cell_type": "code",
   "execution_count": 17,
   "metadata": {},
   "outputs": [
    {
     "name": "stdout",
     "output_type": "stream",
     "text": [
      "Học lực: Loại xuất sắc\n"
     ]
    }
   ],
   "source": [
    "print(f'Học lực: {xeploai}')"
   ]
  },
  {
   "attachments": {},
   "cell_type": "markdown",
   "metadata": {},
   "source": [
    "# Exercise 2"
   ]
  },
  {
   "attachments": {},
   "cell_type": "markdown",
   "metadata": {},
   "source": [
    "<b>Question 1</b>\n",
    "\n",
    "Hãy viết chương trình tính tổng các chữ số của một số nguyên bất kỳ.\n",
    "\n",
    "Ví dụ: Số 8545604 có tổng các chữ số là: 8+5+4+5+6+0+4= 32"
   ]
  },
  {
   "cell_type": "code",
   "execution_count": 22,
   "metadata": {},
   "outputs": [
    {
     "name": "stdout",
     "output_type": "stream",
     "text": [
      "45\n"
     ]
    }
   ],
   "source": [
    "def sumDigital(n):\n",
    "    res = 0\n",
    "    while(n):\n",
    "        res += n%10\n",
    "        n//=10\n",
    "    return res\n",
    "\n",
    "n = int(input())\n",
    "print(sumDigital(n))"
   ]
  },
  {
   "attachments": {},
   "cell_type": "markdown",
   "metadata": {},
   "source": [
    "<b>Question 3</b>\n",
    "\n",
    "Viết chương trình liệt kê tất cả các số nguyên tố nhỏ hơn n cho trước."
   ]
  },
  {
   "cell_type": "code",
   "execution_count": 60,
   "metadata": {},
   "outputs": [
    {
     "name": "stdout",
     "output_type": "stream",
     "text": [
      "Các số nguyên tố nhỏ hơn 29 là [2, 3, 5, 7, 11, 13, 17, 19, 23]\n"
     ]
    }
   ],
   "source": [
    "def prime(n):\n",
    "    check = [True]*(n+1)\n",
    "    res = []\n",
    "    for i in range(2, n+1):\n",
    "        if(check[i]):\n",
    "            res.append(i)\n",
    "            for j in range(2, int(n/i)+1):\n",
    "                check[i*j] = False\n",
    "    return res\n",
    "\n",
    "n = int(input())\n",
    "P = prime(n)\n",
    "if(n==2): print('2 là số nguyên tố nhỏ nhất nên không có số nguyên tố nào trước 2')\n",
    "else: print(f'Các số nguyên tố nhỏ hơn {n} là {P[:-1]}')"
   ]
  },
  {
   "attachments": {},
   "cell_type": "markdown",
   "metadata": {},
   "source": [
    "<b>Question 2</b>\n",
    "\n",
    "Viết chương trình phân tích một số nguyên thành các thừa số nguyên tố\n",
    "\n",
    "Ví dụ: Số 28 được phân tích thành 2 x 2 x 7"
   ]
  },
  {
   "cell_type": "code",
   "execution_count": 59,
   "metadata": {},
   "outputs": [
    {
     "name": "stdout",
     "output_type": "stream",
     "text": [
      "Tích thừa số nguyên tối của 28 = 2x2x7\n"
     ]
    }
   ],
   "source": [
    "def analyPrime(n):\n",
    "    P = prime(n)\n",
    "    i = 0\n",
    "    res = []\n",
    "    while(n>1):\n",
    "        if not n%P[i]:\n",
    "            n//=P[i]\n",
    "            res.append(P[i])\n",
    "        else: \n",
    "            i+=1\n",
    "    return res\n",
    "\n",
    "n = int(input())\n",
    "a = analyPrime(n)\n",
    "print(f'Tích thừa số nguyên tối của {n} = {\"x\".join([str(i) for i in a])}')"
   ]
  },
  {
   "attachments": {},
   "cell_type": "markdown",
   "metadata": {},
   "source": [
    "<b>Question 4</b>\n",
    "\n",
    "Viết chương trình liệt kê n số nguyên tố đầu tiên."
   ]
  },
  {
   "cell_type": "code",
   "execution_count": 89,
   "metadata": {},
   "outputs": [
    {
     "name": "stdout",
     "output_type": "stream",
     "text": [
      "Dảk dảk bủh bủh lmao\n"
     ]
    }
   ],
   "source": [
    "def firstPrimeNumers(n):\n",
    "    print('Dảk dảk bủh bủh lmao')    \n",
    "\n",
    "n = int(input())\n",
    "firstPrimeNumers(n)"
   ]
  },
  {
   "attachments": {},
   "cell_type": "markdown",
   "metadata": {},
   "source": [
    "<b>Question 5</b>\n",
    "\n",
    "Viết chương trình tìm ước số chung lớn nhất, bội số chung nhỏ nhất của hai số tự nhiên a và b."
   ]
  },
  {
   "cell_type": "code",
   "execution_count": 25,
   "metadata": {},
   "outputs": [
    {
     "name": "stdout",
     "output_type": "stream",
     "text": [
      "Ước chung lớn nhất: 2\n",
      "Bội chung nhỏ nhất: 12\n"
     ]
    }
   ],
   "source": [
    "def GCD(a, b):\n",
    "    if not b: return a\n",
    "    a, b = b, a%b\n",
    "    return GCD(a, b)\n",
    "\n",
    "def LCM(a, b):\n",
    "    return int((a*b)/GCD(a, b))\n",
    "\n",
    "a, b = map(int, input().split())\n",
    "print(f'Ước chung lớn nhất: {GCD(a, b)}')\n",
    "print(f'Bội chung nhỏ nhất: {LCM(a, b)}')"
   ]
  },
  {
   "attachments": {},
   "cell_type": "markdown",
   "metadata": {},
   "source": [
    "<b>Question 6</b>\n",
    "\n",
    "Viết ra số Fibonaci thứ n"
   ]
  },
  {
   "cell_type": "code",
   "execution_count": 27,
   "metadata": {},
   "outputs": [
    {
     "name": "stdout",
     "output_type": "stream",
     "text": [
      "Số Fibonaci thứ 4 = 5\n"
     ]
    }
   ],
   "source": [
    "def Fibo(n):\n",
    "    if(n<=1): return 1\n",
    "    return Fibo(n-1)+Fibo(n-2)\n",
    "\n",
    "n = int(input())\n",
    "f = Fibo(n)\n",
    "print(f'Số Fibonaci thứ {n} = {f}')"
   ]
  },
  {
   "attachments": {},
   "cell_type": "markdown",
   "metadata": {},
   "source": [
    "<b>Question 7</b>\n",
    "\n",
    "Nhập một số tự nhiên n.\n",
    "\n",
    "Hãy liệt kê các số Fibonaci nhỏ hơn n là số nguyên tố"
   ]
  },
  {
   "cell_type": "code",
   "execution_count": 30,
   "metadata": {},
   "outputs": [
    {
     "name": "stdout",
     "output_type": "stream",
     "text": [
      "[1, 1, 2, 3]\n"
     ]
    }
   ],
   "source": [
    "def FiboSeq(n):\n",
    "    res = [1, 1]\n",
    "    while(n):\n",
    "        res.append(res[-1]+res[-2])\n",
    "        n-=1\n",
    "    return res\n",
    "\n",
    "print(FiboSeq(2))"
   ]
  },
  {
   "attachments": {},
   "cell_type": "markdown",
   "metadata": {},
   "source": [
    "<b>Question 8:</b>\n",
    "\n",
    "Viết chương trình nhập một số nguyên dương n và thực hiện các chức năng sau:\n",
    "\n",
    "a. Tính tổng các chữ số của n.\n",
    "\n",
    "b. Phân tích n thành các thừa số nguyên tố\n"
   ]
  },
  {
   "cell_type": "code",
   "execution_count": 62,
   "metadata": {},
   "outputs": [
    {
     "name": "stdout",
     "output_type": "stream",
     "text": [
      "Tổng các chữ số của 28 = 10\n",
      "Tích thừa số nguyên tố của 28 = 2x2x7\n"
     ]
    }
   ],
   "source": [
    "n = int(input())\n",
    "print(f'Tổng các chữ số của {n} = {sumDigital(n)}')\n",
    "print(f'Tích thừa số nguyên tố của {n} = {\"x\".join([str(i) for i in analyPrime(n)])}')"
   ]
  },
  {
   "attachments": {},
   "cell_type": "markdown",
   "metadata": {},
   "source": [
    "<b>Question 9:</b>\n",
    "\n",
    "Viết chương trình nhập một số nguyên dương n và thực hiện các chức năng sau:\n",
    "\n",
    "a. Liệt kê các ước số của n. Có bao nhiêu ước số.\n",
    "\n",
    "b. Liệt kê các ước số là nguyên tố của n.\n"
   ]
  },
  {
   "cell_type": "code",
   "execution_count": 66,
   "metadata": {},
   "outputs": [
    {
     "name": "stdout",
     "output_type": "stream",
     "text": [
      "Ước số của 28 là [1, 2, 4, 7, 14, 28], có 6 ước số\n",
      "Ước số nguyên tố của 28 là [2, 7]\n"
     ]
    }
   ],
   "source": [
    "def divisor(n):\n",
    "    res = []\n",
    "    for i in range(1, n+1):\n",
    "        if not n%i: res.append(i)\n",
    "    return res\n",
    "\n",
    "def divisorPrime(n):\n",
    "    check = [True]*(n+1)\n",
    "    res = []\n",
    "    for i in range(2, n+1):\n",
    "        if(check[i]):\n",
    "            if not n%i: res.append(i)\n",
    "            for j in range(2, int(n/i)+1):\n",
    "                check[i*j] = False\n",
    "    return res\n",
    "\n",
    "n = int(input())\n",
    "d = divisor(28)\n",
    "dp = divisorPrime(28)\n",
    "print(f'Ước số của {n} là {d}, có {len(d)} ước số')\n",
    "print(f'Ước số nguyên tố của {n} là {dp}')"
   ]
  },
  {
   "attachments": {},
   "cell_type": "markdown",
   "metadata": {},
   "source": [
    "<b>Question 10:</b>\n",
    "\n",
    "Viết chương trình thực hiện chuẩn hoá một xâu ký tự nhập từ bàn phím (loại bỏ các dấu cách thừa, chuyển ký tự đầu mỗi từ thành chữ hoa, các ký tự khác thành chữ thường)"
   ]
  },
  {
   "cell_type": "code",
   "execution_count": 82,
   "metadata": {},
   "outputs": [
    {
     "data": {
      "text/plain": [
       "'Kdasdkja dkasjd'"
      ]
     },
     "execution_count": 82,
     "metadata": {},
     "output_type": "execute_result"
    }
   ],
   "source": [
    "def changeStr(s):\n",
    "    s = ' '.join(s.split())\n",
    "    s_new = s[0].upper()+s[1:].lower()\n",
    "    return s_new\n",
    "\n",
    "s = input()\n",
    "changeStr(s)"
   ]
  },
  {
   "attachments": {},
   "cell_type": "markdown",
   "metadata": {},
   "source": [
    "<b>Question 11:</b>\n",
    "\n",
    "Viết chương trình thực hiện nhập một xâu ký tự\n",
    "\n",
    "a. Tìm từ dài nhất trong xâu đó.\n",
    "\n",
    "b. Từ đó xuất hiện ở vị trí nào?\n",
    "\n",
    "(Chú ý. nếu có nhiều từ có độ dài giống nhau thì chọn từ đầu tiên tìm thấy)."
   ]
  },
  {
   "cell_type": "code",
   "execution_count": 88,
   "metadata": {},
   "outputs": [
    {
     "name": "stdout",
     "output_type": "stream",
     "text": [
      "Từ dài nhất trong chuỗi \"bac dkajs kjdas kjd kjds\" là dkajs, xuất hiện ở vị trí 5\n"
     ]
    }
   ],
   "source": [
    "def longestWord(s):\n",
    "    words = s.split()\n",
    "    lw = words[0]\n",
    "    for i in range(1, len(words)):\n",
    "        if len(words[i])>len(lw): lw = words[i]\n",
    "    idx_lw = s.find(lw)\n",
    "    return lw, idx_lw\n",
    "\n",
    "s = input()\n",
    "lw, idx_lw = longestWord(s)\n",
    "print(f'Từ dài nhất trong chuỗi \"{s}\" là {lw}, xuất hiện ở vị trí {idx_lw+1}')"
   ]
  },
  {
   "attachments": {},
   "cell_type": "markdown",
   "metadata": {},
   "source": [
    "# Exercise 3"
   ]
  },
  {
   "attachments": {},
   "cell_type": "markdown",
   "metadata": {},
   "source": [
    "<b>Question 1</b>\n",
    "\n",
    "Vẽ hình"
   ]
  },
  {
   "cell_type": "code",
   "execution_count": 31,
   "metadata": {},
   "outputs": [
    {
     "name": "stdout",
     "output_type": "stream",
     "text": [
      "*\n",
      "**\n",
      "***\n",
      "****\n",
      "*****\n",
      "******\n",
      "*******\n",
      "********\n"
     ]
    }
   ],
   "source": [
    "def imgA(n):\n",
    "    temp = n\n",
    "    while(temp):\n",
    "        i = n-temp+1\n",
    "        print('*'*i)\n",
    "        temp-=1\n",
    "\n",
    "imgA(8)"
   ]
  },
  {
   "cell_type": "code",
   "execution_count": 32,
   "metadata": {},
   "outputs": [
    {
     "name": "stdout",
     "output_type": "stream",
     "text": [
      "********\n",
      "*******\n",
      "******\n",
      "*****\n",
      "****\n",
      "***\n",
      "**\n",
      "*\n"
     ]
    }
   ],
   "source": [
    "def imgB(n):\n",
    "    while(n):\n",
    "        print('*'*n)\n",
    "        n-=1\n",
    "\n",
    "imgB(8)"
   ]
  },
  {
   "cell_type": "code",
   "execution_count": 33,
   "metadata": {},
   "outputs": [
    {
     "name": "stdout",
     "output_type": "stream",
     "text": [
      "********\n",
      " *******\n",
      "  ******\n",
      "   *****\n",
      "    ****\n",
      "     ***\n",
      "      **\n",
      "       *\n"
     ]
    }
   ],
   "source": [
    "def imgC(n):\n",
    "    temp = n\n",
    "    while(temp):\n",
    "        space = n-temp\n",
    "        print(' '*space, end='')\n",
    "        print('*'*temp)\n",
    "        temp-=1\n",
    "\n",
    "imgC(8)"
   ]
  },
  {
   "cell_type": "code",
   "execution_count": 35,
   "metadata": {},
   "outputs": [
    {
     "name": "stdout",
     "output_type": "stream",
     "text": [
      "       *\n",
      "      **\n",
      "     ***\n",
      "    ****\n",
      "   *****\n",
      "  ******\n",
      " *******\n",
      "********\n"
     ]
    }
   ],
   "source": [
    "def imgD(n):\n",
    "    temp = n\n",
    "    while(temp):\n",
    "        i = n-temp+1\n",
    "        print(' '*(temp-1), end='')\n",
    "        print('*'*i)\n",
    "        temp-=1\n",
    "\n",
    "imgD(8)"
   ]
  },
  {
   "attachments": {},
   "cell_type": "markdown",
   "metadata": {},
   "source": [
    "<b> Question 2</b>\n",
    "\n",
    "Tính n!"
   ]
  },
  {
   "cell_type": "code",
   "execution_count": 36,
   "metadata": {},
   "outputs": [
    {
     "name": "stdout",
     "output_type": "stream",
     "text": [
      "5! = 120\n"
     ]
    }
   ],
   "source": [
    "def factorial(n):\n",
    "    if not n: return 1\n",
    "    return n*factorial(n-1)\n",
    "\n",
    "n = int(input())\n",
    "f = factorial(n)\n",
    "print(f'{n}! = {f}')"
   ]
  }
 ],
 "metadata": {
  "kernelspec": {
   "display_name": "torchenv",
   "language": "python",
   "name": "python3"
  },
  "language_info": {
   "codemirror_mode": {
    "name": "ipython",
    "version": 3
   },
   "file_extension": ".py",
   "mimetype": "text/x-python",
   "name": "python",
   "nbconvert_exporter": "python",
   "pygments_lexer": "ipython3",
   "version": "3.11.4"
  },
  "orig_nbformat": 4
 },
 "nbformat": 4,
 "nbformat_minor": 2
}
