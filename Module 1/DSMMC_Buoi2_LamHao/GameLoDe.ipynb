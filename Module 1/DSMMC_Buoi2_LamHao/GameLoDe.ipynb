{
 "cells": [
  {
   "cell_type": "code",
   "execution_count": 26,
   "metadata": {},
   "outputs": [],
   "source": [
    "import random\n",
    "from IPython.display import clear_output"
   ]
  },
  {
   "cell_type": "code",
   "execution_count": 2,
   "metadata": {},
   "outputs": [],
   "source": [
    "def roll():\n",
    "    first = random.randint(10, 99)\n",
    "    second = random.randint(10, 99)\n",
    "    third = random.randint(10, 99)\n",
    "    fourth = random.randint(10, 99)\n",
    "    fifth = random.randint(10, 99)\n",
    "    sixth = random.randint(10, 99)\n",
    "    seventh = random.randint(10, 99)\n",
    "    return first, second, third, fourth, fifth, sixth, seventh"
   ]
  },
  {
   "cell_type": "code",
   "execution_count": 9,
   "metadata": {},
   "outputs": [
    {
     "name": "stdout",
     "output_type": "stream",
     "text": [
      "--------------------\n",
      "---Danh sách giải---\n",
      "Giải 1: 98\n",
      "Giải 2: 75\n",
      "Giải 3: 97\n",
      "Giải 4: 87\n",
      "Giải 5: 24\n",
      "Giải 6: 99\n",
      "Giải 7: 91\n",
      "--------------------\n"
     ]
    }
   ],
   "source": [
    "def print_prize(list_prize):\n",
    "    prize = 1\n",
    "    print('-'*20)\n",
    "    print('---Danh sách giải---')\n",
    "    for value in list_prize:\n",
    "        print(f'Giải {prize}: {value}')\n",
    "        prize += 1\n",
    "    print('-'*20)\n",
    "\n",
    "print_prize(roll())"
   ]
  },
  {
   "cell_type": "code",
   "execution_count": 11,
   "metadata": {},
   "outputs": [],
   "source": [
    "def bet_input(asset):\n",
    "    while True:\n",
    "        bet = input(\"Nhập tiền cược mà bạn muốn cược (tiền cược < tổng tiền bạn có): \")\n",
    "        if bet.isdigit() and int(bet)<asset:\n",
    "            return int(bet)\n",
    "        print(\"Nhập sai định dạng hoặc quá tổng tiền. Nhập lại\")\n",
    "\n",
    "def bet_num_input():\n",
    "    while True:\n",
    "        bet_num = input(\"Nhập số lô mà bạn muốn cược (10-99): \")\n",
    "        if bet_num.isdigit() and 10<=int(bet_num)<=99:\n",
    "            return int(bet_num)\n",
    "        print(\"Nhập sai định dạng, vui lòng nhập lại!\")"
   ]
  },
  {
   "cell_type": "code",
   "execution_count": 19,
   "metadata": {},
   "outputs": [],
   "source": [
    "def process(bet, bet_num, prize_list):\n",
    "    global asset\n",
    "    win = 0\n",
    "    for value in prize_list:\n",
    "        if value==bet_num: win+=1\n",
    "    if(win): \n",
    "        asset += win*bet*70\n",
    "        print(f'Bạn đã trúng {win} nháy!')\n",
    "        print(f'Số tiền bạn trúng là {win*bet*70}')\n",
    "        print(f'Tổng tiền bạn có là {asset}')\n",
    "    else: \n",
    "        asset -= bet\n",
    "        print('Bạn đã thua lô!')\n",
    "        print(f'Tổng tiền bạn còn là {asset}')\n"
   ]
  },
  {
   "cell_type": "code",
   "execution_count": 27,
   "metadata": {},
   "outputs": [],
   "source": [
    "def play():\n",
    "    global asset\n",
    "\n",
    "    while True:\n",
    "        bet = bet_input(asset)\n",
    "        bet_num = bet_num_input()\n",
    "        print(f'Số lô bạn chơi là {bet_num}')\n",
    "\n",
    "        prize_list = roll()\n",
    "        print_prize(prize_list)\n",
    "\n",
    "        process(bet, bet_num, prize_list)\n",
    "        while True:\n",
    "            ctn = input(\"Bạn có muốn chơi tiếp không (0: không, 1: có)\")\n",
    "            if(ctn=='1' or ctn=='0'): break\n",
    "            print(\"Nhập không hợp lệ!\")\n",
    "        if(ctn=='0'):\n",
    "            break"
   ]
  },
  {
   "cell_type": "code",
   "execution_count": 23,
   "metadata": {},
   "outputs": [],
   "source": [
    "def pay():\n",
    "    global asset\n",
    "    while True:\n",
    "        while True:\n",
    "            pay_amount = input(\"Nhập số tiền mà bạn muốn nạp: \")\n",
    "            if pay_amount.isdigit(): break\n",
    "            print(\"Nhập không hợp lệ!\")\n",
    "        asset += int(pay_amount)\n",
    "        print(f\"Tổng tiền sau khi bạn nạp là {asset}\")\n",
    "        while True:\n",
    "            ctn = input(\"Bạn có muốn nạp tiền tiếp không (0: không, 1: có)\")\n",
    "            if(ctn=='1' or ctn=='0'): break\n",
    "            print(\"Nhập không hợp lệ!\")\n",
    "        if(ctn=='0'):\n",
    "            break"
   ]
  },
  {
   "cell_type": "code",
   "execution_count": 25,
   "metadata": {},
   "outputs": [],
   "source": [
    "def menu():\n",
    "    print(\"GAME LÔ ĐỀ HỌC\")\n",
    "    print(\"1. Chơi lô\")\n",
    "    print(\"2. Nạp tiền\")\n",
    "    print(\"3. Thoát game\")"
   ]
  },
  {
   "cell_type": "code",
   "execution_count": 32,
   "metadata": {},
   "outputs": [],
   "source": [
    "def main():\n",
    "    menu()\n",
    "    while True:\n",
    "        while True:\n",
    "            choice = input()\n",
    "            if(choice=='1' or choice=='2' or choice=='3'): break\n",
    "            print('Nhập sai lựa chọn, vui lòng nhập lại !')\n",
    "        if choice=='1':\n",
    "            clear_output()\n",
    "            play()\n",
    "            clear_output(wait=True)\n",
    "            main()\n",
    "            break\n",
    "        elif choice=='2':\n",
    "            clear_output()\n",
    "            pay()\n",
    "            clear_output(wait=True)\n",
    "            main()\n",
    "            break\n",
    "        else:\n",
    "            print(\"Chào bạn, hẹn gặp lại\")\n",
    "            break"
   ]
  },
  {
   "cell_type": "code",
   "execution_count": 31,
   "metadata": {},
   "outputs": [
    {
     "name": "stdout",
     "output_type": "stream",
     "text": [
      "GAME LÔ ĐỀ HỌC\n",
      "1. Chơi lô\n",
      "2. Nạp tiền\n",
      "3. Thoát game\n",
      "Chào bạn, hẹn gặp lại\n"
     ]
    }
   ],
   "source": [
    "main()"
   ]
  }
 ],
 "metadata": {
  "kernelspec": {
   "display_name": "torchenv",
   "language": "python",
   "name": "python3"
  },
  "language_info": {
   "codemirror_mode": {
    "name": "ipython",
    "version": 3
   },
   "file_extension": ".py",
   "mimetype": "text/x-python",
   "name": "python",
   "nbconvert_exporter": "python",
   "pygments_lexer": "ipython3",
   "version": "3.11.4"
  },
  "orig_nbformat": 4
 },
 "nbformat": 4,
 "nbformat_minor": 2
}
